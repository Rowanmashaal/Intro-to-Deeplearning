{
  "nbformat": 4,
  "nbformat_minor": 0,
  "metadata": {
    "colab": {
      "name": "image_processing 1.ipynb",
      "provenance": [],
      "authorship_tag": "ABX9TyNFI/wNJNB/fQke6ySLq64X",
      "include_colab_link": true
    },
    "kernelspec": {
      "name": "python3",
      "display_name": "Python 3"
    },
    "language_info": {
      "name": "python"
    },
    "accelerator": "GPU",
    "gpuClass": "standard"
  },
  "cells": [
    {
      "cell_type": "markdown",
      "metadata": {
        "id": "view-in-github",
        "colab_type": "text"
      },
      "source": [
        "<a href=\"https://colab.research.google.com/github/Rowanmashaal/Intro-to-Deeplearning/blob/main/Conv2D_model.ipynb\" target=\"_parent\"><img src=\"https://colab.research.google.com/assets/colab-badge.svg\" alt=\"Open In Colab\"/></a>"
      ]
    },
    {
      "cell_type": "code",
      "execution_count": 1,
      "metadata": {
        "id": "aOLARkBQzDsf"
      },
      "outputs": [],
      "source": [
        "import tensorflow as tf\n",
        "from tensorflow import keras\n",
        "from keras import Sequential\n",
        "from keras import backend as k\n",
        "from keras.layers import Conv2D, Dropout, MaxPool2D, Flatten, Dense"
      ]
    },
    {
      "cell_type": "code",
      "source": [
        "dataset=tf.keras.datasets.fashion_mnist\n",
        "(img_train,train_label),(img_test,test_label)=dataset.load_data()\n",
        "img_rows, img_cols = 28, 28\n",
        "if k.image_data_format()=='channels_first':\n",
        "  img_train=img_train.reshape(img_train.shape[0],1,img_rows,img_cols)\n",
        "  img_test=img_test.reshape(img_test.shape[0],1,img_rows,img_cols)\n",
        "  input_shap=(1,img_rows,img_cols)\n",
        "else:\n",
        "  img_train=img_train.reshape(img_train.shape[0],1,img_rows,img_cols)\n",
        "  img_test=img_test.reshape(img_test.shape[0],1,img_rows,img_cols)\n",
        "  input_shap=(1,img_rows,img_cols)\n",
        "img_train=img_train/255.0\n",
        "img_test=img_test/255.0"
      ],
      "metadata": {
        "colab": {
          "base_uri": "https://localhost:8080/"
        },
        "id": "ReHYBE1HzOri",
        "outputId": "92810d95-e2c2-42c5-8fe3-b8e713fe6bd1"
      },
      "execution_count": 2,
      "outputs": [
        {
          "output_type": "stream",
          "name": "stdout",
          "text": [
            "Downloading data from https://storage.googleapis.com/tensorflow/tf-keras-datasets/train-labels-idx1-ubyte.gz\n",
            "32768/29515 [=================================] - 0s 0us/step\n",
            "40960/29515 [=========================================] - 0s 0us/step\n",
            "Downloading data from https://storage.googleapis.com/tensorflow/tf-keras-datasets/train-images-idx3-ubyte.gz\n",
            "26427392/26421880 [==============================] - 0s 0us/step\n",
            "26435584/26421880 [==============================] - 0s 0us/step\n",
            "Downloading data from https://storage.googleapis.com/tensorflow/tf-keras-datasets/t10k-labels-idx1-ubyte.gz\n",
            "16384/5148 [===============================================================================================] - 0s 0us/step\n",
            "Downloading data from https://storage.googleapis.com/tensorflow/tf-keras-datasets/t10k-images-idx3-ubyte.gz\n",
            "4423680/4422102 [==============================] - 0s 0us/step\n",
            "4431872/4422102 [==============================] - 0s 0us/step\n"
          ]
        }
      ]
    },
    {
      "cell_type": "code",
      "source": [
        "train_label=tf.keras.utils.to_categorical(train_label)\n",
        "test_label=tf.keras.utils.to_categorical(test_label)"
      ],
      "metadata": {
        "id": "ctHySWlfAjcI"
      },
      "execution_count": 3,
      "outputs": []
    },
    {
      "cell_type": "code",
      "source": [
        "\n",
        "batch_size=128\n",
        "epochs=12\n",
        "class_num=10\n",
        "model=Sequential()\n",
        "model.add(Conv2D(32,kernel_size=(3,3),activation='relu',input_shape=input_shap,data_format='channels_first'))\n",
        "model.add(Conv2D(64,(3,3),activation='relu'))\n",
        "model.add(MaxPool2D(pool_size=(2,2)))\n",
        "model.add(Flatten())\n",
        "model.add(Dense(128,activation='relu'))\n",
        "model.add(Dense(10,activation='softmax'))\n",
        "model.summary()\n",
        "#model.compile(optimizer='adam',loss='sparse_categorical_crossentropy',metrics=['accuracy'])\n",
        "#model.fit(img_train,train_label,epochs=10)"
      ],
      "metadata": {
        "colab": {
          "base_uri": "https://localhost:8080/"
        },
        "id": "fGSWR2ifzZUH",
        "outputId": "dfc532af-8181-4f4b-d22f-210bb3adec0b"
      },
      "execution_count": 6,
      "outputs": [
        {
          "output_type": "stream",
          "name": "stdout",
          "text": [
            "Model: \"sequential_2\"\n",
            "_________________________________________________________________\n",
            " Layer (type)                Output Shape              Param #   \n",
            "=================================================================\n",
            " conv2d_4 (Conv2D)           (None, 32, 26, 26)        320       \n",
            "                                                                 \n",
            " conv2d_5 (Conv2D)           (None, 30, 24, 64)        15040     \n",
            "                                                                 \n",
            " max_pooling2d_2 (MaxPooling  (None, 15, 12, 64)       0         \n",
            " 2D)                                                             \n",
            "                                                                 \n",
            " flatten_2 (Flatten)         (None, 11520)             0         \n",
            "                                                                 \n",
            " dense_4 (Dense)             (None, 128)               1474688   \n",
            "                                                                 \n",
            " dense_5 (Dense)             (None, 10)                1290      \n",
            "                                                                 \n",
            "=================================================================\n",
            "Total params: 1,491,338\n",
            "Trainable params: 1,491,338\n",
            "Non-trainable params: 0\n",
            "_________________________________________________________________\n"
          ]
        }
      ]
    },
    {
      "cell_type": "code",
      "source": [
        "model.compile(optimizer=keras.optimizers.Adadelta(),loss=keras.losses.CategoricalCrossentropy(),metrics=['accuracy'])\n",
        "model.fit(img_train,train_label,batch_size=128,epochs=12,verbose=1,validation_data=(img_test,test_label))"
      ],
      "metadata": {
        "colab": {
          "base_uri": "https://localhost:8080/"
        },
        "id": "yDpVbdGyx_vJ",
        "outputId": "161967e0-77d6-4fb0-e9f9-78870e76f44c"
      },
      "execution_count": 8,
      "outputs": [
        {
          "output_type": "stream",
          "name": "stdout",
          "text": [
            "Epoch 1/12\n",
            "469/469 [==============================] - 16s 11ms/step - loss: 2.2314 - accuracy: 0.2184 - val_loss: 2.1628 - val_accuracy: 0.3479\n",
            "Epoch 2/12\n",
            "469/469 [==============================] - 5s 10ms/step - loss: 2.0773 - accuracy: 0.4929 - val_loss: 1.9854 - val_accuracy: 0.5702\n",
            "Epoch 3/12\n",
            "469/469 [==============================] - 5s 10ms/step - loss: 1.8638 - accuracy: 0.5924 - val_loss: 1.7418 - val_accuracy: 0.6043\n",
            "Epoch 4/12\n",
            "469/469 [==============================] - 5s 10ms/step - loss: 1.6035 - accuracy: 0.6184 - val_loss: 1.4800 - val_accuracy: 0.6263\n",
            "Epoch 5/12\n",
            "469/469 [==============================] - 5s 10ms/step - loss: 1.3586 - accuracy: 0.6438 - val_loss: 1.2654 - val_accuracy: 0.6439\n",
            "Epoch 6/12\n",
            "469/469 [==============================] - 5s 11ms/step - loss: 1.1767 - accuracy: 0.6602 - val_loss: 1.1181 - val_accuracy: 0.6592\n",
            "Epoch 7/12\n",
            "469/469 [==============================] - 5s 10ms/step - loss: 1.0525 - accuracy: 0.6744 - val_loss: 1.0179 - val_accuracy: 0.6744\n",
            "Epoch 8/12\n",
            "469/469 [==============================] - 5s 11ms/step - loss: 0.9673 - accuracy: 0.6924 - val_loss: 0.9482 - val_accuracy: 0.6899\n",
            "Epoch 9/12\n",
            "469/469 [==============================] - 5s 10ms/step - loss: 0.9070 - accuracy: 0.7077 - val_loss: 0.8979 - val_accuracy: 0.7040\n",
            "Epoch 10/12\n",
            "469/469 [==============================] - 5s 10ms/step - loss: 0.8621 - accuracy: 0.7196 - val_loss: 0.8597 - val_accuracy: 0.7088\n",
            "Epoch 11/12\n",
            "469/469 [==============================] - 5s 11ms/step - loss: 0.8276 - accuracy: 0.7272 - val_loss: 0.8300 - val_accuracy: 0.7196\n",
            "Epoch 12/12\n",
            "469/469 [==============================] - 5s 10ms/step - loss: 0.8002 - accuracy: 0.7326 - val_loss: 0.8059 - val_accuracy: 0.7260\n"
          ]
        },
        {
          "output_type": "execute_result",
          "data": {
            "text/plain": [
              "<keras.callbacks.History at 0x7fe87c20ef50>"
            ]
          },
          "metadata": {},
          "execution_count": 8
        }
      ]
    },
    {
      "cell_type": "code",
      "source": [
        "test_loss,test_acc=model.evaluate(img_test,test_label,verbose=2)\n",
        "print(test_acc , test_loss)"
      ],
      "metadata": {
        "colab": {
          "base_uri": "https://localhost:8080/"
        },
        "id": "3dByWI7-0LLX",
        "outputId": "023c60dc-0a51-4ff1-e2a7-4dea2e2d9512"
      },
      "execution_count": 9,
      "outputs": [
        {
          "output_type": "stream",
          "name": "stdout",
          "text": [
            "313/313 - 1s - loss: 0.8059 - accuracy: 0.7260 - 837ms/epoch - 3ms/step\n",
            "0.7260000109672546 0.805885374546051\n"
          ]
        }
      ]
    },
    {
      "cell_type": "code",
      "source": [
        "model.save('conv2d_model.h5')"
      ],
      "metadata": {
        "id": "-oF59WUX01Sz"
      },
      "execution_count": 10,
      "outputs": []
    }
  ]
}