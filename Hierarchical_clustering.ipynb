{
  "nbformat": 4,
  "nbformat_minor": 0,
  "metadata": {
    "colab": {
      "name": "k-means algorithms.ipynb",
      "provenance": [],
      "collapsed_sections": [],
      "authorship_tag": "ABX9TyN0cAsz5pcFpeLkbAtBLziz",
      "include_colab_link": true
    },
    "kernelspec": {
      "name": "python3",
      "display_name": "Python 3"
    }
  },
  "cells": [
    {
      "cell_type": "markdown",
      "metadata": {
        "id": "view-in-github",
        "colab_type": "text"
      },
      "source": [
        "<a href=\"https://colab.research.google.com/github/Rowanmashaal/Intro-to-Deeplearning/blob/main/Hierarchical_clustering.ipynb\" target=\"_parent\"><img src=\"https://colab.research.google.com/assets/colab-badge.svg\" alt=\"Open In Colab\"/></a>"
      ]
    },
    {
      "cell_type": "code",
      "metadata": {
        "colab": {
          "base_uri": "https://localhost:8080/"
        },
        "id": "NV1xf813KgMB",
        "outputId": "a7d95fe3-5ee7-44ac-fb11-73c74141070d"
      },
      "source": [
        "import pandas as pd\n",
        "import numpy as np\n",
        "\n",
        "from scipy.spatial import distance_matrix\n",
        "data = [[2,10],[2,5],[8,4],[5,8],[7,5],[6,4],[1,2],[4,9],]\n",
        "ctys = ['A1', 'A2', 'A3','A4','A5','A6','A7','A8']\n",
        "df = pd.DataFrame(data, columns=['xcord', 'ycord'], index=ctys)\n",
        "\n",
        "n_df=(df.values)\n",
        "print (\"points :\")\n",
        "print (n_df)\n",
        "#(df.values).shape\n",
        "matrix=np.zeros(((df.values).shape[0],(df.values).shape[0]))\n",
        "print (\"empty metrix :\")\n",
        "print(matrix)\n",
        "for i in range((df.values).shape[0]):\n",
        "    for j in range((df.values).shape[0]):\n",
        "        matrix[i,j]=np.sqrt(np.sum((n_df[i]-n_df[j])**2))\n",
        "        #print('i',i,'j',j)\n",
        "print (\"distance matrix by euclidean distance :\")\n",
        "print(matrix)\n",
        "\n",
        "\n",
        "\n",
        "\n",
        "\n"
      ],
      "execution_count": 43,
      "outputs": [
        {
          "output_type": "stream",
          "text": [
            "points :\n",
            "[[ 2 10]\n",
            " [ 2  5]\n",
            " [ 8  4]\n",
            " [ 5  8]\n",
            " [ 7  5]\n",
            " [ 6  4]\n",
            " [ 1  2]\n",
            " [ 4  9]]\n",
            "empty metrix :\n",
            "[[0. 0. 0. 0. 0. 0. 0. 0.]\n",
            " [0. 0. 0. 0. 0. 0. 0. 0.]\n",
            " [0. 0. 0. 0. 0. 0. 0. 0.]\n",
            " [0. 0. 0. 0. 0. 0. 0. 0.]\n",
            " [0. 0. 0. 0. 0. 0. 0. 0.]\n",
            " [0. 0. 0. 0. 0. 0. 0. 0.]\n",
            " [0. 0. 0. 0. 0. 0. 0. 0.]\n",
            " [0. 0. 0. 0. 0. 0. 0. 0.]]\n",
            "distance matrix by euclidean distance :\n",
            "[[0.         5.         8.48528137 3.60555128 7.07106781 7.21110255\n",
            "  8.06225775 2.23606798]\n",
            " [5.         0.         6.08276253 4.24264069 5.         4.12310563\n",
            "  3.16227766 4.47213595]\n",
            " [8.48528137 6.08276253 0.         5.         1.41421356 2.\n",
            "  7.28010989 6.40312424]\n",
            " [3.60555128 4.24264069 5.         0.         3.60555128 4.12310563\n",
            "  7.21110255 1.41421356]\n",
            " [7.07106781 5.         1.41421356 3.60555128 0.         1.41421356\n",
            "  6.70820393 5.        ]\n",
            " [7.21110255 4.12310563 2.         4.12310563 1.41421356 0.\n",
            "  5.38516481 5.38516481]\n",
            " [8.06225775 3.16227766 7.28010989 7.21110255 6.70820393 5.38516481\n",
            "  0.         7.61577311]\n",
            " [2.23606798 4.47213595 6.40312424 1.41421356 5.         5.38516481\n",
            "  7.61577311 0.        ]]\n"
          ],
          "name": "stdout"
        }
      ]
    },
    {
      "cell_type": "code",
      "metadata": {
        "colab": {
          "base_uri": "https://localhost:8080/"
        },
        "id": "5wuA5cJWLlve",
        "outputId": "41b416d0-af6d-439c-e82e-d36bbd7cacca"
      },
      "source": [
        "print(\"maximum distance:)\\n\")\n",
        "for i in range(len(matrix)-2):\n",
        "  for j in range(len(matrix)-2):\n",
        "    minval = np.min(matrix[np.nonzero(matrix)])\n",
        "    print (\"minimum distance is --->\",minval)\n",
        "#getting index of the distance \n",
        "    index = np.argwhere(matrix == minval)\n",
        "    print(\"index of the min_dist-->\",index)\n",
        "#get min of indexies\n",
        "    index=index[0]\n",
        "    print( \"index value\",index)\n",
        "    for x in range(len(matrix)-2):\n",
        "       #print(len(matrix))\n",
        "       if matrix[x][index[0]]<matrix[x][index[1]]:\n",
        "         matrix[x][index[0]]=matrix[x][index[1]]\n",
        "       else :\n",
        "         matrix[x][index[0]]=matrix[x][index[0]]\n",
        "       if matrix[index[0]][x]<matrix[index[1]][x]:\n",
        "         matrix[index[0]][x]=matrix[index[1]][x]\n",
        "       else :\n",
        "         matrix[index[0]][x]=matrix[index[0]][x]  \n",
        "    matrix=np.delete(matrix,[index[1]], axis=0)  \n",
        "    matrix=np.delete(matrix,[index[1]], axis=1)\n",
        "    matrix[index[0]][index[0]]=0\n",
        "    print(matrix)\n",
        "           "
      ],
      "execution_count": 44,
      "outputs": [
        {
          "output_type": "stream",
          "text": [
            "maximum distance:)\n",
            "\n",
            "minimum distance is ---> 1.4142135623730951\n",
            "index of the min_dist--> [[2 4]\n",
            " [3 7]\n",
            " [4 2]\n",
            " [4 5]\n",
            " [5 4]\n",
            " [7 3]]\n",
            "index value [2 4]\n",
            "[[0.         5.         8.48528137 3.60555128 7.21110255 8.06225775\n",
            "  2.23606798]\n",
            " [5.         0.         6.08276253 4.24264069 4.12310563 3.16227766\n",
            "  4.47213595]\n",
            " [8.48528137 6.08276253 0.         5.         2.         7.28010989\n",
            "  6.40312424]\n",
            " [3.60555128 4.24264069 5.         0.         4.12310563 7.21110255\n",
            "  1.41421356]\n",
            " [7.21110255 4.12310563 2.         4.12310563 0.         5.38516481\n",
            "  5.38516481]\n",
            " [8.06225775 3.16227766 7.28010989 7.21110255 5.38516481 0.\n",
            "  7.61577311]\n",
            " [2.23606798 4.47213595 6.40312424 1.41421356 5.38516481 7.61577311\n",
            "  0.        ]]\n",
            "minimum distance is ---> 1.4142135623730951\n",
            "index of the min_dist--> [[3 6]\n",
            " [6 3]]\n",
            "index value [3 6]\n",
            "[[0.         5.         8.48528137 3.60555128 7.21110255 8.06225775]\n",
            " [5.         0.         6.08276253 4.47213595 4.12310563 3.16227766]\n",
            " [8.48528137 6.08276253 0.         6.40312424 2.         7.28010989]\n",
            " [3.60555128 4.47213595 6.40312424 0.         5.38516481 7.21110255]\n",
            " [7.21110255 4.12310563 2.         5.38516481 0.         5.38516481]\n",
            " [8.06225775 3.16227766 7.28010989 7.21110255 5.38516481 0.        ]]\n",
            "minimum distance is ---> 2.0\n",
            "index of the min_dist--> [[2 4]\n",
            " [4 2]]\n",
            "index value [2 4]\n",
            "[[0.         5.         8.48528137 3.60555128 8.06225775]\n",
            " [5.         0.         6.08276253 4.47213595 3.16227766]\n",
            " [8.48528137 6.08276253 0.         6.40312424 7.28010989]\n",
            " [3.60555128 4.47213595 6.40312424 0.         7.21110255]\n",
            " [8.06225775 3.16227766 7.28010989 7.21110255 0.        ]]\n",
            "minimum distance is ---> 3.1622776601683795\n",
            "index of the min_dist--> [[1 4]\n",
            " [4 1]]\n",
            "index value [1 4]\n",
            "[[0.         8.06225775 8.48528137 3.60555128]\n",
            " [8.06225775 0.         7.28010989 4.47213595]\n",
            " [8.48528137 7.28010989 0.         6.40312424]\n",
            " [3.60555128 4.47213595 6.40312424 0.        ]]\n",
            "minimum distance is ---> 3.605551275463989\n",
            "index of the min_dist--> [[0 3]\n",
            " [3 0]]\n",
            "index value [0 3]\n",
            "[[0.         8.06225775 8.48528137]\n",
            " [8.06225775 0.         7.28010989]\n",
            " [8.48528137 7.28010989 0.        ]]\n",
            "minimum distance is ---> 7.280109889280518\n",
            "index of the min_dist--> [[1 2]\n",
            " [2 1]]\n",
            "index value [1 2]\n",
            "[[0.         8.48528137]\n",
            " [8.48528137 0.        ]]\n"
          ],
          "name": "stdout"
        }
      ]
    },
    {
      "cell_type": "code",
      "metadata": {
        "colab": {
          "base_uri": "https://localhost:8080/"
        },
        "id": "POOHwzDaLaCn",
        "outputId": "48e86f21-e5f8-40ba-8002-ef6267455a55"
      },
      "source": [
        "\n",
        "print(\"minimum distance:)\")\n",
        "for i in range(len(matrix)-2):\n",
        "   for j in range(len(matrix)-2):\n",
        "    minval = np.min(matrix[np.nonzero(matrix)])\n",
        "    print (\"minimum distance is --->\",minval)\n",
        "#getting index of the distance \n",
        "    index = np.argwhere(matrix == minval)\n",
        "    print(\"index of the min_dist-->\",index)\n",
        "#get min of indexies\n",
        "    index=index[0]\n",
        "    print( \"index value\",index)\n",
        "    for x in range(len(matrix)-2):\n",
        "       #print(len(matrix))\n",
        "       if matrix[x][index[0]]>matrix[x][index[1]]:\n",
        "         matrix[x][index[0]]=matrix[x][index[1]]\n",
        "       else :\n",
        "         matrix[x][index[0]]=matrix[x][index[0]]\n",
        "       if matrix[index[0]][x]>matrix[index[1]][x]:\n",
        "         matrix[index[0]][x]=matrix[index[1]][x]\n",
        "       else :\n",
        "         matrix[index[0]][x]=matrix[index[0]][x]  \n",
        "    matrix=np.delete(matrix,[index[1]], axis=0)  \n",
        "    matrix=np.delete(matrix,[index[1]], axis=1)\n",
        "    matrix[index[0]][index[0]]=0\n",
        "    print(matrix)"
      ],
      "execution_count": 42,
      "outputs": [
        {
          "output_type": "stream",
          "text": [
            "minimum distance:)\n",
            "minimum distance is ---> 1.4142135623730951\n",
            "index of the min_dist--> [[2 4]\n",
            " [3 7]\n",
            " [4 2]\n",
            " [4 5]\n",
            " [5 4]\n",
            " [7 3]]\n",
            "index value [2 4]\n",
            "[[0.         5.         7.07106781 3.60555128 7.21110255 8.06225775\n",
            "  2.23606798]\n",
            " [5.         0.         5.         4.24264069 4.12310563 3.16227766\n",
            "  4.47213595]\n",
            " [7.07106781 5.         0.         3.60555128 1.41421356 7.28010989\n",
            "  6.40312424]\n",
            " [3.60555128 4.24264069 3.60555128 0.         4.12310563 7.21110255\n",
            "  1.41421356]\n",
            " [7.21110255 4.12310563 1.41421356 4.12310563 0.         5.38516481\n",
            "  5.38516481]\n",
            " [8.06225775 3.16227766 7.28010989 7.21110255 5.38516481 0.\n",
            "  7.61577311]\n",
            " [2.23606798 4.47213595 6.40312424 1.41421356 5.38516481 7.61577311\n",
            "  0.        ]]\n",
            "minimum distance is ---> 1.4142135623730951\n",
            "index of the min_dist--> [[2 4]\n",
            " [3 6]\n",
            " [4 2]\n",
            " [6 3]]\n",
            "index value [2 4]\n",
            "[[0.         5.         7.07106781 3.60555128 8.06225775 2.23606798]\n",
            " [5.         0.         4.12310563 4.24264069 3.16227766 4.47213595]\n",
            " [7.07106781 4.12310563 0.         3.60555128 7.28010989 6.40312424]\n",
            " [3.60555128 4.24264069 3.60555128 0.         7.21110255 1.41421356]\n",
            " [8.06225775 3.16227766 7.28010989 7.21110255 0.         7.61577311]\n",
            " [2.23606798 4.47213595 6.40312424 1.41421356 7.61577311 0.        ]]\n",
            "minimum distance is ---> 1.4142135623730951\n",
            "index of the min_dist--> [[3 5]\n",
            " [5 3]]\n",
            "index value [3 5]\n",
            "[[0.         5.         7.07106781 2.23606798 8.06225775]\n",
            " [5.         0.         4.12310563 4.24264069 3.16227766]\n",
            " [7.07106781 4.12310563 0.         3.60555128 7.28010989]\n",
            " [2.23606798 4.24264069 3.60555128 0.         7.21110255]\n",
            " [8.06225775 3.16227766 7.28010989 7.21110255 0.        ]]\n",
            "minimum distance is ---> 2.23606797749979\n",
            "index of the min_dist--> [[0 3]\n",
            " [3 0]]\n",
            "index value [0 3]\n",
            "[[0.         4.24264069 3.60555128 8.06225775]\n",
            " [4.24264069 0.         4.12310563 3.16227766]\n",
            " [3.60555128 4.12310563 0.         7.28010989]\n",
            " [8.06225775 3.16227766 7.28010989 0.        ]]\n",
            "minimum distance is ---> 3.1622776601683795\n",
            "index of the min_dist--> [[1 3]\n",
            " [3 1]]\n",
            "index value [1 3]\n",
            "[[0.         4.24264069 3.60555128]\n",
            " [4.24264069 0.         4.12310563]\n",
            " [3.60555128 4.12310563 0.        ]]\n",
            "minimum distance is ---> 3.605551275463989\n",
            "index of the min_dist--> [[0 2]\n",
            " [2 0]]\n",
            "index value [0 2]\n",
            "[[0.         4.24264069]\n",
            " [4.24264069 0.        ]]\n"
          ],
          "name": "stdout"
        }
      ]
    },
    {
      "cell_type": "code",
      "metadata": {
        "colab": {
          "base_uri": "https://localhost:8080/",
          "height": 724
        },
        "id": "_zfFCxY4s2fy",
        "outputId": "8f20083a-5948-4e50-d168-f7583fc94279"
      },
      "source": [
        "import numpy as np\n",
        "import scipy.spatial.distance as sc\n",
        "X = np.array([[2,10],[2,5],[8,4],[5,8],[7,5],[6,4],[1,2],[4,9],])\n",
        "y=sc.cdist(X, X, metric='euclidean')\n",
        "print(y)\n",
        "#comparing 2 distance matrix \n",
        "comparison = matrix == y\n",
        "equal_arrays = comparison.all()\n",
        "if (equal_arrays):\n",
        "  print (\"equal distance matrix \")\n",
        "\n",
        "from scipy.cluster.hierarchy import dendrogram, linkage\n",
        "from matplotlib import pyplot as plt\n",
        "\n",
        "linked = linkage(X, 'single')\n",
        "\n",
        "labelList = range(1, 11)\n",
        "\n",
        "plt.figure(figsize=(10, 7))\n",
        "dendrogram(linked,\n",
        "            orientation='top',\n",
        "            labels=labelList,\n",
        "            distance_sort='descending',\n",
        "            show_leaf_counts=True)\n",
        "plt.show()"
      ],
      "execution_count": 14,
      "outputs": [
        {
          "output_type": "stream",
          "text": [
            "[[0.         5.         8.48528137 3.60555128 7.07106781 7.21110255\n",
            "  8.06225775 2.23606798]\n",
            " [5.         0.         6.08276253 4.24264069 5.         4.12310563\n",
            "  3.16227766 4.47213595]\n",
            " [8.48528137 6.08276253 0.         5.         1.41421356 2.\n",
            "  7.28010989 6.40312424]\n",
            " [3.60555128 4.24264069 5.         0.         3.60555128 4.12310563\n",
            "  7.21110255 1.41421356]\n",
            " [7.07106781 5.         1.41421356 3.60555128 0.         1.41421356\n",
            "  6.70820393 5.        ]\n",
            " [7.21110255 4.12310563 2.         4.12310563 1.41421356 0.\n",
            "  5.38516481 5.38516481]\n",
            " [8.06225775 3.16227766 7.28010989 7.21110255 6.70820393 5.38516481\n",
            "  0.         7.61577311]\n",
            " [2.23606798 4.47213595 6.40312424 1.41421356 5.         5.38516481\n",
            "  7.61577311 0.        ]]\n",
            "equal distance matrix \n"
          ],
          "name": "stdout"
        },
        {
          "output_type": "display_data",
          "data": {
            "image/png": "[encoded data removed]",
            "text/plain": [
              "<Figure size 720x504 with 1 Axes>"
            ]
          },
          "metadata": {
            "tags": [],
            "needs_background": "light"
          }
        }
      ]
    },
    {
      "cell_type": "code",
      "metadata": {
        "id": "PtndRXpzwOm7"
      },
      "source": [
        "\n"
      ],
      "execution_count": 36,
      "outputs": []
    },
    {
      "cell_type": "code",
      "metadata": {
        "id": "AArboVZEsOky"
      },
      "source": [
        ""
      ],
      "execution_count": null,
      "outputs": []
    }
  ]
}